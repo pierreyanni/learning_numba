{
 "cells": [
  {
   "cell_type": "markdown",
   "metadata": {},
   "source": [
    "# Some useful (?) tricks for jupyter notebooks"
   ]
  },
  {
   "cell_type": "markdown",
   "metadata": {},
   "source": [
    "## Jupyter Notebook Extensions\n",
    "install it: conda install -c conda-forge jupyter_nbextensions_configurator\n",
    "* Snippets: create one by modifing /jupyter/nbextensions/snippets/snippets.json\n",
    "* Collapsible headings\n",
    "* Autopep8\n",
    "* Variable inspector\n",
    "* Ruler (80 characters)\n",
    "* Scratchpad\n",
    "* Zenmode"
   ]
  },
  {
   "cell_type": "code",
   "execution_count": null,
   "metadata": {
    "cell_style": "center"
   },
   "outputs": [],
   "source": [
    "%matplotlib inline\n",
    "import pandas as pd\n",
    "import numpy as np\n",
    "import matplotlib.pyplot as plt\n",
    "pd.options.display.max_columns = None"
   ]
  },
  {
   "cell_type": "markdown",
   "metadata": {
    "cell_style": "center"
   },
   "source": [
    "## Convert jupyter notebook into pdf\n",
    "1. *conda install nbconvert*\n",
    "2. install [pandoc](https://www.pandoc.org \"pandoc\")\n",
    "3. install Tex: [MikTeX](https://miktex.org \"MikTeX\") for Windows and [MacTeX](http://tug.org/mactex/ \"MacTex\") for MacOS\n",
    "4. *jupyter nbconvert --to pdf notebook.ipynb* or *File/Download As/pdf (.tex)*"
   ]
  },
  {
   "cell_type": "markdown",
   "metadata": {},
   "source": [
    "## Share code\n",
    "%pastebin *+ cell numbers*"
   ]
  },
  {
   "cell_type": "code",
   "execution_count": null,
   "metadata": {
    "scrolled": true
   },
   "outputs": [],
   "source": [
    "%pastebin 1"
   ]
  },
  {
   "cell_type": "markdown",
   "metadata": {},
   "source": [
    "# numba\n",
    "philosophy: find bottlenecks in code and speed them up  \n",
    "just in time compilation in no python mode (@njit) as opposed to object mode"
   ]
  },
  {
   "cell_type": "markdown",
   "metadata": {},
   "source": [
    "## A few things I learned\n",
    "1. Compiling takes time: compile only once (!) and only if necessary\n",
    "2. Use built-in functions and numpy: well integrated with numba\n",
    "3. In most cases, gains from jitting much bigger than from parallel computing\n",
    "4. Loops are ok!\n",
    "5. Use only jitted function as input for functions to be jitted\n",
    "6. Function inputs should only be parameters that change\n",
    "7. Parallel computing comes with an overhead\n",
    "8. Be careful with global variables\n",
    "9. Test and retest"
   ]
  },
  {
   "cell_type": "markdown",
   "metadata": {},
   "source": [
    "## Examples:"
   ]
  },
  {
   "cell_type": "code",
   "execution_count": null,
   "metadata": {},
   "outputs": [],
   "source": [
    "import random\n",
    "import numba\n",
    "import time\n",
    "from numba import njit, prange"
   ]
  },
  {
   "cell_type": "code",
   "execution_count": null,
   "metadata": {},
   "outputs": [],
   "source": [
    "# example 1: jitting interpolation function\n",
    "m = 200\n",
    "n = 30\n",
    "v_x = np.linspace(0, 1, m)\n",
    "mat_y = np.random.rand(m, n)\n",
    "x0 = np.random.rand(n)\n",
    "\n",
    "def interp_mat(v_x, mat_y, v_x0):\n",
    "    \"\"\"interpolation and extrapolation; nth value of v_x0 corresponds to\n",
    "    nth col of mat_y\"\"\"\n",
    "    v_y0 = np.empty_like(v_x0)\n",
    "    for col in range(len(v_y0)):\n",
    "        i = np.fmin(np.searchsorted(v_x, v_x0[col], 'left'), len(v_x)-1)\n",
    "        v_y0[col] = (mat_y[i-1, col]\n",
    "                     + (v_x0[col] - v_x[i-1])/(v_x[i] - v_x[i-1])\n",
    "                     * (mat_y[i, col] - mat_y[i-1, col]))\n",
    "    return v_y0\n",
    "\n",
    "interp_jit = numba.njit(interp_mat)\n",
    "\n",
    "interp_jit(v_x, mat_y, x0)\n",
    "\n",
    "%timeit interp_mat(v_x, mat_y, x0)\n",
    "%timeit interp_jit(v_x, mat_y, x0)"
   ]
  },
  {
   "cell_type": "code",
   "execution_count": null,
   "metadata": {},
   "outputs": [],
   "source": [
    "#example 2: sum of squared random variables\n",
    "# loops are ok (for n large enough!)\n",
    "\n",
    "n = 10_000 # 1_000_000 100_000_000 \n",
    "\n",
    "# normal function\n",
    "\n",
    "start = time.time()\n",
    "\n",
    "def test(n):\n",
    "    sum = 0\n",
    "    for i in range(n):\n",
    "        x = random.uniform(0, 1)\n",
    "        sum += x**2\n",
    "    return sum\n",
    "   \n",
    "test(n)\n",
    "print(f'loop: {time.time() - start}')\n",
    "\n",
    "# jitted function\n",
    "\n",
    "start = time.time()\n",
    "\n",
    "jit_test = numba.njit(test) # or use decorator @njit\n",
    "    \n",
    "jit_test(n)\n",
    "print(f'jitted loop: {time.time() - start}')\n",
    "\n",
    "\n",
    "# straight numpy\n",
    "start = time.time()\n",
    "\n",
    "np.sum(np.random.uniform(0,1,n)**2)\n",
    "print(f'numpy: {time.time() - start}')\n",
    "\n",
    "\n",
    "# jitted numpy\n",
    "start = time.time()\n",
    "\n",
    "@njit\n",
    "def np_test(n):\n",
    "    return np.sum(np.random.uniform(0,1,n)**2)\n",
    "\n",
    "np_test(n)\n",
    "print(f'jitted numpy: {time.time() - start}')"
   ]
  },
  {
   "cell_type": "code",
   "execution_count": null,
   "metadata": {},
   "outputs": [],
   "source": [
    "# example 3: passing extra parameters can be costly\n",
    "\n",
    "from numba import float64, int32\n",
    "\n",
    "a = 0\n",
    "b = 1\n",
    "n = 10\n",
    "\n",
    "\n",
    "@njit\n",
    "def test():\n",
    "    sum = 0\n",
    "    for i in range(n):\n",
    "        x = random.uniform(a, b)\n",
    "        sum += x**2\n",
    "    return sum\n",
    "\n",
    "@njit\n",
    "def test2(a, b, n):\n",
    "    sum = 0\n",
    "    for i in range(n):\n",
    "        x = random.uniform(a, b)\n",
    "        sum += x**2\n",
    "    return sum\n",
    "\n",
    "@njit(float64(int32, int32, int32))\n",
    "def test3(a, b, n):\n",
    "    sum = 0\n",
    "    for i in range(n):\n",
    "        x = random.uniform(a, b)\n",
    "        sum += x**2\n",
    "    return sum\n",
    "\n",
    "test()\n",
    "test2(a, b, n)\n",
    "test3(a, b, n)\n",
    "\n",
    "%timeit test()\n",
    "%timeit test2(a, b, n)\n",
    "%timeit test3(a, b, n)"
   ]
  },
  {
   "cell_type": "code",
   "execution_count": null,
   "metadata": {},
   "outputs": [],
   "source": [
    "# example 4: be careful with global variables\n",
    "\n",
    "@njit\n",
    "def add_a(x):\n",
    "    return a + x\n",
    "\n",
    "a = 1\n",
    "print(add_a(1))\n",
    "\n",
    "a = 2\n",
    "print(add_a(1)) "
   ]
  },
  {
   "cell_type": "code",
   "execution_count": null,
   "metadata": {},
   "outputs": [],
   "source": [
    "# example 5: parallel computing\n",
    "from numba import njit, prange\n",
    "\n",
    "@njit\n",
    "def test(n):\n",
    "    sum = 0\n",
    "    for i in range(n):\n",
    "        x = random.uniform(a, b)\n",
    "        sum += x**2\n",
    "    return sum\n",
    "\n",
    "def loop(J, n):\n",
    "    for j in range(J):\n",
    "        test(n)\n",
    "\n",
    "@njit(parallel=True)\n",
    "def loop_par(J, n):\n",
    "    for j in prange(J):\n",
    "        test(n)\n",
    "\n",
    "J, n = 1000, 1000       \n",
    "%timeit loop(J, n)\n",
    "%timeit loop_par(J, n)"
   ]
  },
  {
   "cell_type": "markdown",
   "metadata": {},
   "source": [
    "# Dynamic programming with Python\n",
    "[quantecon](https://www.quantecon.org \"quantecon\"): lecture notes, code, packages\n"
   ]
  },
  {
   "cell_type": "markdown",
   "metadata": {},
   "source": [
    "## Replication of DFJ (2010)"
   ]
  },
  {
   "cell_type": "markdown",
   "metadata": {},
   "source": [
    "### The model\n",
    "\n",
    "* individuals from age 70 to 100 (max) choose consumption every period,\n",
    "* they have a given initial wealth and income every period and pay for medical expenses,\n",
    "* they are hit by health shocks, survival shocks and shocks to medical expenses\n",
    "* there is a consumption floor that guarantees minimal consumption\n",
    "\n",
    "\n",
    "The timing inside a period is as follows:\n",
    "1. health status and medical expenses are realized\n",
    "2. the individual consumes and saves\n",
    "3. survival shock hits\n",
    "\n",
    "Value function:\n",
    "\\begin{equation}\n",
    "\\begin{split}\n",
    "    V_t(x_t, g, h_t, I, \\zeta_t) = \\max_{c_t, x_{t+1}}  \\{ \\frac{c_t^{1-\\nu}} {1-\\nu}\n",
    "    + \\beta s_{g,h,I,t} E_t V_{t+1}(x_{t+1}, g, h_{t+1}, I, \\zeta_{t+1}) \\}\n",
    "\\end{split}\n",
    "\\end{equation}\n",
    "\n",
    "subject to:\n",
    "\n",
    "\\begin{equation}\n",
    "    x_{t+1} = x_t - c_t + y_n(r(x_t-c_t) + y(g, I, t+1), \\tau) + b_{t+1} - m_{t+1}    \n",
    "\\end{equation}\n",
    "\n",
    "\\begin{equation}\n",
    "    \\ln{m_t} = m(g,h,I,t) + \\sigma(g,h,I,t) \\cdot \\psi_t    \n",
    "\\end{equation}\n",
    "\n",
    "\\begin{equation} \n",
    "    \\pi_{j,k,g,I,t} = \\Pr(h_{t+1} = k | h_t = j, g, I, t), \\; j, k \\in \\{1,0\\}.\n",
    "\\end{equation} \n",
    "where\n",
    "\\begin{equation}\n",
    "    \\begin{split}\n",
    "        b_{t+1} = \\max \\{0, \\underline{c} + m_{t+1} - [x_t - c_t + y_n(r(x_t - c_t) + y(g, I, t+1), \\tau)]\\}\n",
    "    \\end{split}    \n",
    "\\end{equation}\n",
    "\n",
    "and\n",
    "\\begin{align}\n",
    "    &\\psi_t = \\zeta_t + \\xi_t, \\; \\xi_t \\sim N(0,\\sigma_\\xi^2) \\\\\n",
    "    &\\zeta_t = \\rho_m \\zeta_{t-1} + \\epsilon_{t}, \\; \\epsilon_{t} \\sim N(0,\\sigma_\\epsilon^2)\n",
    "\\end{align}"
   ]
  },
  {
   "cell_type": "markdown",
   "metadata": {},
   "source": [
    "### Basic code"
   ]
  },
  {
   "cell_type": "code",
   "execution_count": null,
   "metadata": {},
   "outputs": [],
   "source": [
    "import time\n",
    "import DFJ_basic\n",
    "DFJ = DFJ_basic\n",
    "\n",
    "start = time.time()\n",
    "\n",
    "cp = DFJ.common_params(3, 2, 10, 500_000) \n",
    "ip = DFJ.indiv_params(1, 0.5)\n",
    "m_c, m_V = DFJ.solve_model(cp, ip)\n",
    "\n",
    "print(f'time:{time.time()-start}')\n",
    "\n",
    "# figure: consumption\n",
    "ax = plt.subplot()\n",
    "for per in [0, 10, 20]:\n",
    "    ax.plot(cp.grid_x, m_c[per, :, 5], label=f'period {str(per)}')\n",
    "ax.legend()\n",
    "ax.set_title('Decision function')\n",
    "ax.set_xlabel('cash-on-hand')\n",
    "ax.set_ylabel('consumption')\n",
    "plt.show()"
   ]
  },
  {
   "cell_type": "markdown",
   "metadata": {},
   "source": [
    "### Jitted code"
   ]
  },
  {
   "cell_type": "code",
   "execution_count": null,
   "metadata": {},
   "outputs": [],
   "source": [
    "import DFJ\n",
    "\n",
    "start = time.time()\n",
    "\n",
    "cp = DFJ.common_params(9, 10, 100, 500_000)\n",
    "ip = DFJ.indiv_params(1, 0.5)\n",
    "m_c, m_V = DFJ.solve_model(cp, ip)\n",
    "\n",
    "print(f'time:{time.time()-start}')\n",
    "\n",
    "# figure: consumption\n",
    "ax = plt.subplot(1, 1, 1)\n",
    "for per in [0, 10, 20]:\n",
    "    ax.plot(cp.grid_x, m_c[per, :, 5], label=f'period {str(per)}')\n",
    "ax.legend()\n",
    "ax.set_title('Decision function')\n",
    "ax.set_xlabel('cash-on-hand')\n",
    "ax.set_ylabel('consumption')\n",
    "plt.show()"
   ]
  },
  {
   "cell_type": "markdown",
   "metadata": {},
   "source": [
    "### Jitted + parallel code"
   ]
  },
  {
   "cell_type": "code",
   "execution_count": null,
   "metadata": {},
   "outputs": [],
   "source": [
    "import DFJ_parallel\n",
    "DFJ = DFJ_parallel\n",
    "\n",
    "start = time.time()\n",
    "\n",
    "cp = DFJ.common_params(9, 10, 100, 500_000)\n",
    "ip = DFJ.indiv_params(1, 0.5)\n",
    "m_c, m_V = DFJ.solve_model(cp, ip)\n",
    "\n",
    "print(f'time:{time.time()-start}')\n",
    "\n",
    "# figure: consumption\n",
    "ax = plt.subplot(1, 1, 1)\n",
    "for per in [0, 10, 20]:\n",
    "    ax.plot(cp.grid_x, m_c[per, :, 5], label=f'period {str(per)}')\n",
    "ax.legend()\n",
    "ax.set_title('Decision function')\n",
    "ax.set_xlabel('cash-on-hand')\n",
    "ax.set_ylabel('consumption')\n",
    "plt.show()"
   ]
  },
  {
   "cell_type": "markdown",
   "metadata": {},
   "source": [
    "## Comparing speed"
   ]
  },
  {
   "cell_type": "code",
   "execution_count": null,
   "metadata": {},
   "outputs": [],
   "source": [
    "import pandas as pd\n",
    "import importlib\n",
    "params = [(3,2,10),(9,8,100),(18,16,1000)]\n",
    "mod_list = ['DFJ_basic', 'DFJ', 'DFJ_parallel']\n",
    "df = pd.DataFrame(index=mod_list, columns=params)\n",
    "for mod in mod_list:\n",
    "    DFJ = importlib.import_module(mod)\n",
    "    ip = DFJ.indiv_params(1, 0.5)\n",
    "    for col in params:\n",
    "        if mod == 'DFJ_basic' and col == (18,16,1000):\n",
    "            df.loc[mod, col] = 'too long'\n",
    "            break\n",
    "        start = time.time()\n",
    "        cp = DFJ.common_params(col[0], col[1], col[2], 500_000)\n",
    "        m_c, m_V = DFJ.solve_model(cp, ip)\n",
    "        df.loc[mod, col] = time.time() - start "
   ]
  },
  {
   "cell_type": "code",
   "execution_count": null,
   "metadata": {},
   "outputs": [],
   "source": [
    "print('Speed comparison: basic, jitted, jitted+parallel\\n' + \n",
    "     'for # of gridpoints' + \n",
    "      '(persistent shock, transitory shock and cash-on-hand)')\n",
    "display(df)"
   ]
  }
 ],
 "metadata": {
  "kernelspec": {
   "display_name": "Python 3",
   "language": "python",
   "name": "python3"
  },
  "language_info": {
   "codemirror_mode": {
    "name": "ipython",
    "version": 3
   },
   "file_extension": ".py",
   "mimetype": "text/x-python",
   "name": "python",
   "nbconvert_exporter": "python",
   "pygments_lexer": "ipython3",
   "version": "3.7.3"
  },
  "toc": {
   "base_numbering": 1,
   "nav_menu": {},
   "number_sections": true,
   "sideBar": true,
   "skip_h1_title": false,
   "title_cell": "Table of Contents",
   "title_sidebar": "Contents",
   "toc_cell": false,
   "toc_position": {
    "height": "calc(100% - 180px)",
    "left": "10px",
    "top": "150px",
    "width": "165px"
   },
   "toc_section_display": true,
   "toc_window_display": true
  },
  "varInspector": {
   "cols": {
    "lenName": 16,
    "lenType": 16,
    "lenVar": 40
   },
   "kernels_config": {
    "python": {
     "delete_cmd_postfix": "",
     "delete_cmd_prefix": "del ",
     "library": "var_list.py",
     "varRefreshCmd": "print(var_dic_list())"
    },
    "r": {
     "delete_cmd_postfix": ") ",
     "delete_cmd_prefix": "rm(",
     "library": "var_list.r",
     "varRefreshCmd": "cat(var_dic_list()) "
    }
   },
   "oldHeight": 412.21299999999997,
   "position": {
    "height": "404.212px",
    "left": "1231.38px",
    "right": "20px",
    "top": "117px",
    "width": "295.625px"
   },
   "types_to_exclude": [
    "module",
    "function",
    "builtin_function_or_method",
    "instance",
    "_Feature"
   ],
   "varInspector_section_display": "block",
   "window_display": false
  }
 },
 "nbformat": 4,
 "nbformat_minor": 2
}
